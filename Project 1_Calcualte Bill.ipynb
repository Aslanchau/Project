{
 "cells": [
  {
   "cell_type": "code",
   "execution_count": 8,
   "metadata": {},
   "outputs": [
    {
     "name": "stdout",
     "output_type": "stream",
     "text": [
      "Welcome to the tip calculator\n",
      "Each person pay for the bill is $30.45\n"
     ]
    }
   ],
   "source": [
    "print (\"Welcome to the tip calculator\")\n",
    "bill = float(input (' What was the total bill $? '))\n",
    "tip = int(input('How many percent you give 10, 15 or 20%?'))\n",
    "people = int(input('How many people to split the bill?'))\n",
    "tip_as_percent = tip/100\n",
    "total_tip_amount = tip * tip_as_percent\n",
    "total_bill = bill + total_tip_amount\n",
    "bill_per_person = total_bill/people\n",
    "final_amount =  round(bill_per_person,2)\n",
    "print (f\"Each person pay for the bill is ${final_amount}\")"
   ]
  }
 ],
 "metadata": {
  "kernelspec": {
   "display_name": "Python 3",
   "language": "python",
   "name": "python3"
  },
  "language_info": {
   "codemirror_mode": {
    "name": "ipython",
    "version": 3
   },
   "file_extension": ".py",
   "mimetype": "text/x-python",
   "name": "python",
   "nbconvert_exporter": "python",
   "pygments_lexer": "ipython3",
   "version": "3.9.6"
  }
 },
 "nbformat": 4,
 "nbformat_minor": 2
}
