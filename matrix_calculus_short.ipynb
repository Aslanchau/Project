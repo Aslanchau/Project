{
 "cells": [
  {
   "cell_type": "markdown",
   "id": "9f0fe83d-7b7b-42e1-b2e2-e670cd6e810b",
   "metadata": {
    "id": "9f0fe83d-7b7b-42e1-b2e2-e670cd6e810b"
   },
   "source": [
    "### Top-5 Matrix Calculus Rules ###\n",
    "\n",
    "### Rule-1 ###\n",
    "\n",
    "Given a function $f(x) = a^T x$, where:\n",
    "- $a$ is a $n \\times 1$ vector,\n",
    "- $x$ is a $n \\times 1$ vector,\n",
    "\n",
    "the gradient of $f(x)$ with respect to $x$ is:\n",
    "\n",
    "$$\n",
    "\\nabla_x f = a\n",
    "$$\n",
    "\n",
    "\n"
   ]
  },
  {
   "cell_type": "code",
   "execution_count": 4,
   "id": "fd4b1c13",
   "metadata": {},
   "outputs": [
    {
     "name": "stdout",
     "output_type": "stream",
     "text": [
      "Defaulting to user installation because normal site-packages is not writeable\n",
      "Requirement already satisfied: torch in /Users/chauthanhuy/Library/Python/3.9/lib/python/site-packages (2.5.1)\n",
      "Requirement already satisfied: filelock in /Users/chauthanhuy/Library/Python/3.9/lib/python/site-packages (from torch) (3.16.1)\n",
      "Requirement already satisfied: typing-extensions>=4.8.0 in /Users/chauthanhuy/Library/Python/3.9/lib/python/site-packages (from torch) (4.12.2)\n",
      "Requirement already satisfied: networkx in /Users/chauthanhuy/Library/Python/3.9/lib/python/site-packages (from torch) (3.2.1)\n",
      "Requirement already satisfied: jinja2 in /Users/chauthanhuy/Library/Python/3.9/lib/python/site-packages (from torch) (3.1.2)\n",
      "Requirement already satisfied: fsspec in /Users/chauthanhuy/Library/Python/3.9/lib/python/site-packages (from torch) (2024.10.0)\n",
      "Requirement already satisfied: sympy==1.13.1 in /Users/chauthanhuy/Library/Python/3.9/lib/python/site-packages (from torch) (1.13.1)\n",
      "Requirement already satisfied: mpmath<1.4,>=1.1.0 in /Users/chauthanhuy/Library/Python/3.9/lib/python/site-packages (from sympy==1.13.1->torch) (1.3.0)\n",
      "Requirement already satisfied: MarkupSafe>=2.0 in /Users/chauthanhuy/Library/Python/3.9/lib/python/site-packages (from jinja2->torch) (2.1.3)\n",
      "Note: you may need to restart the kernel to use updated packages.\n"
     ]
    }
   ],
   "source": [
    "%pip install torch"
   ]
  },
  {
   "cell_type": "code",
   "execution_count": 5,
   "id": "eebf8e94-2ae6-4720-aa0d-ed1332065ff3",
   "metadata": {
    "colab": {
     "base_uri": "https://localhost:8080/"
    },
    "id": "eebf8e94-2ae6-4720-aa0d-ed1332065ff3",
    "outputId": "c08dda1a-8427-47fe-d06a-33ce3c7a1154"
   },
   "outputs": [
    {
     "name": "stdout",
     "output_type": "stream",
     "text": [
      "[[-1.4624308347702026], [0.7523223161697388]]\n"
     ]
    }
   ],
   "source": [
    "import torch\n",
    "torch.manual_seed(47)\n",
    "\n",
    "a = torch.randn(2, 1)\n",
    "x = torch.randn(2, 1, requires_grad=True)\n",
    "\n",
    "def grad_f(x, a):\n",
    "    f = a.T @ x\n",
    "    f.backward()\n",
    "    return x.grad\n",
    "\n",
    "expected_gradient = a\n",
    "calculated_gradient = grad_f(x, a)\n",
    "\n",
    "assert torch.allclose(expected_gradient, calculated_gradient)\n",
    "print(calculated_gradient.tolist())"
   ]
  },
  {
   "cell_type": "markdown",
   "id": "a3ef6b19-09b9-40b1-b3a4-0e31debdb7e3",
   "metadata": {
    "id": "a3ef6b19-09b9-40b1-b3a4-0e31debdb7e3"
   },
   "source": [
    "### Rule-2 ###\n",
    "\n",
    "Given a function $ f(x) = A x $, where:\n",
    "- $ A $ is an $ m \\times n $ matrix,\n",
    "- $ x $ is an $ n \\times 1 $ vector,\n",
    "\n",
    "the Jacobian of $ f(x) $ with respect to $ x $ is:\n",
    "\n",
    "$$\n",
    "\\mathbf{J}_{f(x)} = A\n",
    "$$\n"
   ]
  },
  {
   "cell_type": "code",
   "execution_count": 6,
   "id": "83d82f43-e701-47a9-8cdf-6f64cc2feaff",
   "metadata": {
    "id": "83d82f43-e701-47a9-8cdf-6f64cc2feaff"
   },
   "outputs": [],
   "source": [
    "import torch\n",
    "torch.manual_seed(47)\n",
    "\n",
    "# Define A as a 2x3 matrix and x as a 3x1 vector\n",
    "A = torch.randn(2, 3)\n",
    "x = torch.randn(3, 1, requires_grad=True)\n",
    "\n",
    "# f is a vector-valued function (in and out: vector)\n",
    "def f(x):\n",
    "    return A @ x\n",
    "\n",
    "jacobian = (\n",
    "    torch.autograd\n",
    "    .functional\n",
    "    .jacobian(f, x)\n",
    "    .reshape(2, -1)\n",
    ")\n",
    "\n",
    "expected_jacobian = A\n",
    "assert torch.allclose(jacobian, expected_jacobian)"
   ]
  },
  {
   "cell_type": "markdown",
   "id": "f52686f2-e772-47aa-a77a-22ed0ac9e5c6",
   "metadata": {
    "id": "f52686f2-e772-47aa-a77a-22ed0ac9e5c6"
   },
   "source": [
    "### Rule-3\n",
    "\n",
    "Given a function $f(x) = x^T A x$, where:\n",
    "- $A$ is a $n \\times n$ matrix,\n",
    "- $x$ is a $n \\times 1$ vector,\n",
    "\n",
    "the gradient of $f(x)$ with respect to $x$ is:\n",
    "\n",
    "$$\n",
    "\\nabla_x f = A x + A^T x\n",
    "$$\n",
    "\n",
    "#### Condition on $A$:\n",
    "- If $A$ is **symmetric** ($A = A^T$), the gradient simplifies to, $\\nabla_x f = 2 A x$\n"
   ]
  },
  {
   "cell_type": "code",
   "execution_count": 7,
   "id": "d054dd81-d9de-4066-86c9-05b87bf96653",
   "metadata": {
    "colab": {
     "base_uri": "https://localhost:8080/"
    },
    "id": "d054dd81-d9de-4066-86c9-05b87bf96653",
    "outputId": "90617892-94e7-4054-98f8-882d0ae9e630"
   },
   "outputs": [
    {
     "name": "stdout",
     "output_type": "stream",
     "text": [
      "[[-2.916311502456665], [0.7888590097427368]]\n"
     ]
    }
   ],
   "source": [
    "import torch; torch.manual_seed(47)\n",
    "\n",
    "A = torch.randn(2, 2);\n",
    "x = torch.randn(2, 1, requires_grad=True)\n",
    "\n",
    "def grad_f(A, x):\n",
    "    f = x.T @ A @ x\n",
    "    f.backward()\n",
    "    return x.grad\n",
    "\n",
    "expected_gradient = A @ x + A.T @ x\n",
    "calculated_gradient = grad_f(A, x)\n",
    "\n",
    "assert torch.allclose(expected_gradient, calculated_gradient)\n",
    "print(calculated_gradient.tolist())"
   ]
  },
  {
   "cell_type": "markdown",
   "id": "be9b0247-af3f-4265-a2e6-de7711ce5f39",
   "metadata": {
    "id": "be9b0247-af3f-4265-a2e6-de7711ce5f39"
   },
   "source": [
    "### Rule-4 ###\n",
    "\n",
    "Given a function $f(x, y) = x^T A y$, where:\n",
    "- $A$ is a $n \\times n$ matrix,\n",
    "- $x$ is a $n \\times 1$ vector,\n",
    "- $y$ is a $n \\times 1$ vector,\n",
    "\n",
    "the gradients of $f(x, y)$ with respect to $x$ and $y$ are:\n",
    "\n",
    "$$\n",
    "\\nabla_x f = A y\n",
    "$$\n",
    "\n",
    "$$\n",
    "\\nabla_y f = A^T x\n",
    "$$\n"
   ]
  },
  {
   "cell_type": "code",
   "execution_count": 8,
   "id": "5ecc47b9-6bec-4919-9d5c-d60046702c00",
   "metadata": {
    "colab": {
     "base_uri": "https://localhost:8080/"
    },
    "id": "5ecc47b9-6bec-4919-9d5c-d60046702c00",
    "outputId": "9031bc86-340f-452f-a3c5-ace2b6cefdd2"
   },
   "outputs": [
    {
     "name": "stdout",
     "output_type": "stream",
     "text": [
      "Calculated Gradient with respect to y:\n",
      "tensor([[-2.9293],\n",
      "        [ 1.1403]])\n"
     ]
    }
   ],
   "source": [
    "import torch; torch.manual_seed(47)\n",
    "\n",
    "A = torch.randn(2, 2)\n",
    "x = torch.randn(2, 1, requires_grad=True)\n",
    "y = torch.randn(2, 1, requires_grad=True)\n",
    "\n",
    "def grad_f(A, x, y):\n",
    "    f = x.T @ A @ y\n",
    "    f.backward()\n",
    "    return x.grad, y.grad\n",
    "\n",
    "expected_grad_x = A @ y\n",
    "expected_grad_y = A.T @ x\n",
    "calculated_grad_x, calculated_grad_y = grad_f(A, x, y)\n",
    "\n",
    "assert torch.allclose(expected_grad_x, calculated_grad_x)\n",
    "assert torch.allclose(expected_grad_y, calculated_grad_y)\n",
    "\n",
    "\n",
    "print(\"Calculated Gradient with respect to y:\")\n",
    "print(calculated_grad_y)"
   ]
  },
  {
   "cell_type": "markdown",
   "id": "29d459c8-8ace-4dfc-9d35-6479d8c7ac8c",
   "metadata": {
    "id": "29d459c8-8ace-4dfc-9d35-6479d8c7ac8c"
   },
   "source": [
    "### Rule-5\n",
    "\n",
    "Given a function $ f(X) = a^T X b $, where:\n",
    "- $ a $ is a $n \\times 1 $ column vector,\n",
    "- $ X $ is a $n \\times m $ matrix,\n",
    "- $ b $ is a $m \\times 1 $ column vector,\n",
    "\n",
    "the gradient of $ f(X) $ with respect to $X $ is:\n",
    "\n",
    "$$\n",
    "\\nabla_X (a^T X b) = a b^T\n",
    "$$\n"
   ]
  },
  {
   "cell_type": "code",
   "execution_count": 9,
   "id": "433ddff6-4da4-48d3-b521-569d1d5b9f02",
   "metadata": {
    "colab": {
     "base_uri": "https://localhost:8080/"
    },
    "id": "433ddff6-4da4-48d3-b521-569d1d5b9f02",
    "outputId": "a3ec06f6-1484-44c6-def6-3caf966bcace"
   },
   "outputs": [
    {
     "name": "stdout",
     "output_type": "stream",
     "text": [
      "tensor([[-0.8419, -0.8833],\n",
      "        [ 0.4331,  0.4544],\n",
      "        [-0.9886, -1.0373]])\n"
     ]
    }
   ],
   "source": [
    "import torch\n",
    "torch.manual_seed(47)\n",
    "\n",
    "a = torch.randn(3, 1)\n",
    "b = torch.randn(2, 1)\n",
    "X = torch.randn(3, 2, requires_grad=True)\n",
    "\n",
    "def grad_f(X, a, b):\n",
    "    f = a.T @ X @ b\n",
    "    f.backward()\n",
    "    return X.grad\n",
    "\n",
    "calculated_grad_X = grad_f(X, a, b)\n",
    "expected_grad_X = a @ b.T\n",
    "assert torch.allclose(expected_grad_X, calculated_grad_X)\n",
    "print(calculated_grad_X)"
   ]
  },
  {
   "cell_type": "code",
   "execution_count": null,
   "id": "-Q6Llw52Iile",
   "metadata": {
    "id": "-Q6Llw52Iile"
   },
   "outputs": [],
   "source": []
  }
 ],
 "metadata": {
  "colab": {
   "provenance": [],
   "toc_visible": true
  },
  "kernelspec": {
   "display_name": "Python 3",
   "language": "python",
   "name": "python3"
  },
  "language_info": {
   "codemirror_mode": {
    "name": "ipython",
    "version": 3
   },
   "file_extension": ".py",
   "mimetype": "text/x-python",
   "name": "python",
   "nbconvert_exporter": "python",
   "pygments_lexer": "ipython3",
   "version": "3.9.6"
  }
 },
 "nbformat": 4,
 "nbformat_minor": 5
}
